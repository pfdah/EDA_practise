{
 "cells": [
  {
   "cell_type": "code",
   "execution_count": 1,
   "metadata": {},
   "outputs": [],
   "source": [
    "import pandas as pd\n",
    "import numpy as np\n",
    "from matplotlib import pyplot as plt"
   ]
  },
  {
   "cell_type": "code",
   "execution_count": 2,
   "metadata": {},
   "outputs": [
    {
     "data": {
      "text/html": [
       "<div>\n",
       "<style scoped>\n",
       "    .dataframe tbody tr th:only-of-type {\n",
       "        vertical-align: middle;\n",
       "    }\n",
       "\n",
       "    .dataframe tbody tr th {\n",
       "        vertical-align: top;\n",
       "    }\n",
       "\n",
       "    .dataframe thead th {\n",
       "        text-align: right;\n",
       "    }\n",
       "</style>\n",
       "<table border=\"1\" class=\"dataframe\">\n",
       "  <thead>\n",
       "    <tr style=\"text-align: right;\">\n",
       "      <th></th>\n",
       "      <th>id</th>\n",
       "      <th>Telcos</th>\n",
       "      <th>Mobile</th>\n",
       "      <th>Gender</th>\n",
       "      <th>Age</th>\n",
       "      <th>Region</th>\n",
       "      <th>District</th>\n",
       "      <th>Breathing Problem</th>\n",
       "      <th>Fever</th>\n",
       "      <th>Dry Cough</th>\n",
       "      <th>Sore throat</th>\n",
       "      <th>Hyper Tension</th>\n",
       "      <th>Abroad travel</th>\n",
       "      <th>Contact with COVID Patient</th>\n",
       "      <th>Attended Large Gathering</th>\n",
       "      <th>Visited Public Exposed Places</th>\n",
       "      <th>Family working in Public Exposed Places</th>\n",
       "      <th>COVID-19</th>\n",
       "    </tr>\n",
       "  </thead>\n",
       "  <tbody>\n",
       "    <tr>\n",
       "      <th>0</th>\n",
       "      <td>2245</td>\n",
       "      <td>Smart</td>\n",
       "      <td>xxxxxxxxxx</td>\n",
       "      <td>Male</td>\n",
       "      <td>50</td>\n",
       "      <td>Dar es Salaam</td>\n",
       "      <td>37</td>\n",
       "      <td>Yes</td>\n",
       "      <td>Yes</td>\n",
       "      <td>Yes</td>\n",
       "      <td>Yes</td>\n",
       "      <td>Yes</td>\n",
       "      <td>No</td>\n",
       "      <td>Yes</td>\n",
       "      <td>No</td>\n",
       "      <td>Yes</td>\n",
       "      <td>Yes</td>\n",
       "      <td>Yes</td>\n",
       "    </tr>\n",
       "    <tr>\n",
       "      <th>1</th>\n",
       "      <td>2246</td>\n",
       "      <td>Smart</td>\n",
       "      <td>xxxxxxxxxx</td>\n",
       "      <td>Male</td>\n",
       "      <td>92</td>\n",
       "      <td>Geita</td>\n",
       "      <td>36</td>\n",
       "      <td>Yes</td>\n",
       "      <td>Yes</td>\n",
       "      <td>Yes</td>\n",
       "      <td>Yes</td>\n",
       "      <td>No</td>\n",
       "      <td>No</td>\n",
       "      <td>No</td>\n",
       "      <td>Yes</td>\n",
       "      <td>Yes</td>\n",
       "      <td>No</td>\n",
       "      <td>Yes</td>\n",
       "    </tr>\n",
       "    <tr>\n",
       "      <th>2</th>\n",
       "      <td>2247</td>\n",
       "      <td>Smart</td>\n",
       "      <td>xxxxxxxxxx</td>\n",
       "      <td>Female</td>\n",
       "      <td>14</td>\n",
       "      <td>Arusha</td>\n",
       "      <td>63</td>\n",
       "      <td>Yes</td>\n",
       "      <td>Yes</td>\n",
       "      <td>Yes</td>\n",
       "      <td>Yes</td>\n",
       "      <td>No</td>\n",
       "      <td>Yes</td>\n",
       "      <td>No</td>\n",
       "      <td>No</td>\n",
       "      <td>No</td>\n",
       "      <td>No</td>\n",
       "      <td>Yes</td>\n",
       "    </tr>\n",
       "    <tr>\n",
       "      <th>3</th>\n",
       "      <td>2248</td>\n",
       "      <td>Zantel</td>\n",
       "      <td>xxxxxxxxxx</td>\n",
       "      <td>Female</td>\n",
       "      <td>16</td>\n",
       "      <td>Dar es Salaam</td>\n",
       "      <td>6</td>\n",
       "      <td>Yes</td>\n",
       "      <td>Yes</td>\n",
       "      <td>Yes</td>\n",
       "      <td>No</td>\n",
       "      <td>No</td>\n",
       "      <td>Yes</td>\n",
       "      <td>No</td>\n",
       "      <td>Yes</td>\n",
       "      <td>Yes</td>\n",
       "      <td>No</td>\n",
       "      <td>Yes</td>\n",
       "    </tr>\n",
       "    <tr>\n",
       "      <th>4</th>\n",
       "      <td>2249</td>\n",
       "      <td>Smart</td>\n",
       "      <td>xxxxxxxxxx</td>\n",
       "      <td>Female</td>\n",
       "      <td>59</td>\n",
       "      <td>Iringa</td>\n",
       "      <td>27</td>\n",
       "      <td>Yes</td>\n",
       "      <td>Yes</td>\n",
       "      <td>Yes</td>\n",
       "      <td>Yes</td>\n",
       "      <td>Yes</td>\n",
       "      <td>No</td>\n",
       "      <td>Yes</td>\n",
       "      <td>No</td>\n",
       "      <td>Yes</td>\n",
       "      <td>No</td>\n",
       "      <td>Yes</td>\n",
       "    </tr>\n",
       "  </tbody>\n",
       "</table>\n",
       "</div>"
      ],
      "text/plain": [
       "     id  Telcos      Mobile  Gender  Age         Region  District  \\\n",
       "0  2245   Smart  xxxxxxxxxx    Male   50  Dar es Salaam        37   \n",
       "1  2246   Smart  xxxxxxxxxx    Male   92          Geita        36   \n",
       "2  2247   Smart  xxxxxxxxxx  Female   14         Arusha        63   \n",
       "3  2248  Zantel  xxxxxxxxxx  Female   16  Dar es Salaam         6   \n",
       "4  2249   Smart  xxxxxxxxxx  Female   59         Iringa        27   \n",
       "\n",
       "  Breathing Problem Fever Dry Cough Sore throat Hyper Tension Abroad travel  \\\n",
       "0               Yes   Yes       Yes         Yes           Yes            No   \n",
       "1               Yes   Yes       Yes         Yes            No            No   \n",
       "2               Yes   Yes       Yes         Yes            No           Yes   \n",
       "3               Yes   Yes       Yes          No            No           Yes   \n",
       "4               Yes   Yes       Yes         Yes           Yes            No   \n",
       "\n",
       "  Contact with COVID Patient Attended Large Gathering  \\\n",
       "0                        Yes                       No   \n",
       "1                         No                      Yes   \n",
       "2                         No                       No   \n",
       "3                         No                      Yes   \n",
       "4                        Yes                       No   \n",
       "\n",
       "  Visited Public Exposed Places Family working in Public Exposed Places  \\\n",
       "0                           Yes                                     Yes   \n",
       "1                           Yes                                      No   \n",
       "2                            No                                      No   \n",
       "3                           Yes                                      No   \n",
       "4                           Yes                                      No   \n",
       "\n",
       "  COVID-19  \n",
       "0      Yes  \n",
       "1      Yes  \n",
       "2      Yes  \n",
       "3      Yes  \n",
       "4      Yes  "
      ]
     },
     "execution_count": 2,
     "metadata": {},
     "output_type": "execute_result"
    }
   ],
   "source": [
    "df = pd.read_csv(\"../data/Covid_dataset.csv\")\n",
    "df.head()"
   ]
  },
  {
   "attachments": {},
   "cell_type": "markdown",
   "metadata": {},
   "source": [
    "### Data Types"
   ]
  },
  {
   "cell_type": "code",
   "execution_count": 3,
   "metadata": {},
   "outputs": [
    {
     "data": {
      "text/plain": [
       "id                                          int64\n",
       "Telcos                                     object\n",
       "Mobile                                     object\n",
       "Gender                                     object\n",
       "Age                                         int64\n",
       "Region                                     object\n",
       "District                                    int64\n",
       "Breathing Problem                          object\n",
       "Fever                                      object\n",
       "Dry Cough                                  object\n",
       "Sore throat                                object\n",
       "Hyper Tension                              object\n",
       "Abroad travel                              object\n",
       "Contact with COVID Patient                 object\n",
       "Attended Large Gathering                   object\n",
       "Visited Public Exposed Places              object\n",
       "Family working in Public Exposed Places    object\n",
       "COVID-19                                   object\n",
       "dtype: object"
      ]
     },
     "execution_count": 3,
     "metadata": {},
     "output_type": "execute_result"
    }
   ],
   "source": [
    "df.dtypes"
   ]
  },
  {
   "attachments": {},
   "cell_type": "markdown",
   "metadata": {},
   "source": [
    "### The shape of the data"
   ]
  },
  {
   "cell_type": "code",
   "execution_count": 4,
   "metadata": {},
   "outputs": [
    {
     "data": {
      "text/plain": [
       "(5434, 18)"
      ]
     },
     "execution_count": 4,
     "metadata": {},
     "output_type": "execute_result"
    }
   ],
   "source": [
    "df.shape"
   ]
  },
  {
   "cell_type": "code",
   "execution_count": 5,
   "metadata": {},
   "outputs": [
    {
     "data": {
      "text/plain": [
       "97812"
      ]
     },
     "execution_count": 5,
     "metadata": {},
     "output_type": "execute_result"
    }
   ],
   "source": [
    "df.size"
   ]
  },
  {
   "attachments": {},
   "cell_type": "markdown",
   "metadata": {},
   "source": [
    "### Data information"
   ]
  },
  {
   "cell_type": "code",
   "execution_count": 6,
   "metadata": {},
   "outputs": [
    {
     "data": {
      "text/plain": [
       "<AxesSubplot: >"
      ]
     },
     "execution_count": 6,
     "metadata": {},
     "output_type": "execute_result"
    },
    {
     "data": {
      "image/png": "[encoded data removed]",
      "text/plain": [
       "<Figure size 640x480 with 1 Axes>"
      ]
     },
     "metadata": {},
     "output_type": "display_data"
    }
   ],
   "source": [
    "df['COVID-19'].value_counts(normalize=True).plot(kind='bar')"
   ]
  },
  {
   "cell_type": "code",
   "execution_count": 7,
   "metadata": {},
   "outputs": [
    {
     "name": "stdout",
     "output_type": "stream",
     "text": [
      "<class 'pandas.core.frame.DataFrame'>\n",
      "RangeIndex: 5434 entries, 0 to 5433\n",
      "Data columns (total 18 columns):\n",
      " #   Column                                   Non-Null Count  Dtype \n",
      "---  ------                                   --------------  ----- \n",
      " 0   id                                       5434 non-null   int64 \n",
      " 1   Telcos                                   5434 non-null   object\n",
      " 2   Mobile                                   5434 non-null   object\n",
      " 3   Gender                                   5434 non-null   object\n",
      " 4   Age                                      5434 non-null   int64 \n",
      " 5   Region                                   5434 non-null   object\n",
      " 6   District                                 5434 non-null   int64 \n",
      " 7   Breathing Problem                        5434 non-null   object\n",
      " 8   Fever                                    5434 non-null   object\n",
      " 9   Dry Cough                                5434 non-null   object\n",
      " 10  Sore throat                              5434 non-null   object\n",
      " 11  Hyper Tension                            5434 non-null   object\n",
      " 12  Abroad travel                            5434 non-null   object\n",
      " 13  Contact with COVID Patient               5434 non-null   object\n",
      " 14  Attended Large Gathering                 5434 non-null   object\n",
      " 15  Visited Public Exposed Places            5434 non-null   object\n",
      " 16  Family working in Public Exposed Places  5434 non-null   object\n",
      " 17  COVID-19                                 5434 non-null   object\n",
      "dtypes: int64(3), object(15)\n",
      "memory usage: 764.3+ KB\n"
     ]
    }
   ],
   "source": [
    "df.info()"
   ]
  },
  {
   "cell_type": "code",
   "execution_count": 8,
   "metadata": {},
   "outputs": [
    {
     "data": {
      "text/plain": [
       "id                                         5434\n",
       "Telcos                                     5434\n",
       "Mobile                                     5434\n",
       "Gender                                     5434\n",
       "Age                                        5434\n",
       "Region                                     5434\n",
       "District                                   5434\n",
       "Breathing Problem                          5434\n",
       "Fever                                      5434\n",
       "Dry Cough                                  5434\n",
       "Sore throat                                5434\n",
       "Hyper Tension                              5434\n",
       "Abroad travel                              5434\n",
       "Contact with COVID Patient                 5434\n",
       "Attended Large Gathering                   5434\n",
       "Visited Public Exposed Places              5434\n",
       "Family working in Public Exposed Places    5434\n",
       "COVID-19                                   5434\n",
       "dtype: int64"
      ]
     },
     "execution_count": 8,
     "metadata": {},
     "output_type": "execute_result"
    }
   ],
   "source": [
    "df.count()"
   ]
  },
  {
   "cell_type": "code",
   "execution_count": 9,
   "metadata": {},
   "outputs": [
    {
     "data": {
      "text/html": [
       "<div>\n",
       "<style scoped>\n",
       "    .dataframe tbody tr th:only-of-type {\n",
       "        vertical-align: middle;\n",
       "    }\n",
       "\n",
       "    .dataframe tbody tr th {\n",
       "        vertical-align: top;\n",
       "    }\n",
       "\n",
       "    .dataframe thead th {\n",
       "        text-align: right;\n",
       "    }\n",
       "</style>\n",
       "<table border=\"1\" class=\"dataframe\">\n",
       "  <thead>\n",
       "    <tr style=\"text-align: right;\">\n",
       "      <th></th>\n",
       "      <th>id</th>\n",
       "      <th>Age</th>\n",
       "      <th>District</th>\n",
       "    </tr>\n",
       "  </thead>\n",
       "  <tbody>\n",
       "    <tr>\n",
       "      <th>count</th>\n",
       "      <td>5434.000000</td>\n",
       "      <td>5434.000000</td>\n",
       "      <td>5434.000000</td>\n",
       "    </tr>\n",
       "    <tr>\n",
       "      <th>mean</th>\n",
       "      <td>4961.500000</td>\n",
       "      <td>55.857563</td>\n",
       "      <td>38.931726</td>\n",
       "    </tr>\n",
       "    <tr>\n",
       "      <th>std</th>\n",
       "      <td>1568.805012</td>\n",
       "      <td>31.964801</td>\n",
       "      <td>22.221008</td>\n",
       "    </tr>\n",
       "    <tr>\n",
       "      <th>min</th>\n",
       "      <td>2245.000000</td>\n",
       "      <td>1.000000</td>\n",
       "      <td>1.000000</td>\n",
       "    </tr>\n",
       "    <tr>\n",
       "      <th>25%</th>\n",
       "      <td>3603.250000</td>\n",
       "      <td>28.000000</td>\n",
       "      <td>20.000000</td>\n",
       "    </tr>\n",
       "    <tr>\n",
       "      <th>50%</th>\n",
       "      <td>4961.500000</td>\n",
       "      <td>55.000000</td>\n",
       "      <td>39.000000</td>\n",
       "    </tr>\n",
       "    <tr>\n",
       "      <th>75%</th>\n",
       "      <td>6319.750000</td>\n",
       "      <td>84.000000</td>\n",
       "      <td>58.000000</td>\n",
       "    </tr>\n",
       "    <tr>\n",
       "      <th>max</th>\n",
       "      <td>7678.000000</td>\n",
       "      <td>111.000000</td>\n",
       "      <td>77.000000</td>\n",
       "    </tr>\n",
       "  </tbody>\n",
       "</table>\n",
       "</div>"
      ],
      "text/plain": [
       "                id          Age     District\n",
       "count  5434.000000  5434.000000  5434.000000\n",
       "mean   4961.500000    55.857563    38.931726\n",
       "std    1568.805012    31.964801    22.221008\n",
       "min    2245.000000     1.000000     1.000000\n",
       "25%    3603.250000    28.000000    20.000000\n",
       "50%    4961.500000    55.000000    39.000000\n",
       "75%    6319.750000    84.000000    58.000000\n",
       "max    7678.000000   111.000000    77.000000"
      ]
     },
     "execution_count": 9,
     "metadata": {},
     "output_type": "execute_result"
    }
   ],
   "source": [
    "df.describe()"
   ]
  },
  {
   "attachments": {},
   "cell_type": "markdown",
   "metadata": {},
   "source": [
    "### The max and min counts of all columns"
   ]
  },
  {
   "cell_type": "code",
   "execution_count": 10,
   "metadata": {},
   "outputs": [
    {
     "name": "stdout",
     "output_type": "stream",
     "text": [
      "Max count of  id 2245    1\n",
      "Name: id, dtype: int64\n",
      "Min count of  id 7678    1\n",
      "Name: id, dtype: int64\n",
      "Max count of  Telcos Vodacom    826\n",
      "Name: Telcos, dtype: int64\n",
      "Min count of  Telcos TTCL    723\n",
      "Name: Telcos, dtype: int64\n",
      "Max count of  Mobile xxxxxxxxxx    5434\n",
      "Name: Mobile, dtype: int64\n",
      "Min count of  Mobile xxxxxxxxxx    5434\n",
      "Name: Mobile, dtype: int64\n",
      "Max count of  Gender Male    2737\n",
      "Name: Gender, dtype: int64\n",
      "Min count of  Gender Female    2697\n",
      "Name: Gender, dtype: int64\n",
      "Max count of  Age 102    75\n",
      "Name: Age, dtype: int64\n",
      "Min count of  Age 2    30\n",
      "Name: Age, dtype: int64\n",
      "Max count of  Region Dodoma    813\n",
      "Name: Region, dtype: int64\n",
      "Min count of  Region Katavi    755\n",
      "Name: Region, dtype: int64\n",
      "Max count of  District 34    88\n",
      "Name: District, dtype: int64\n",
      "Min count of  District 53    55\n",
      "Name: District, dtype: int64\n",
      "Max count of  Breathing Problem Yes    3620\n",
      "Name: Breathing Problem, dtype: int64\n",
      "Min count of  Breathing Problem No    1814\n",
      "Name: Breathing Problem, dtype: int64\n",
      "Max count of  Fever Yes    4273\n",
      "Name: Fever, dtype: int64\n",
      "Min count of  Fever No    1161\n",
      "Name: Fever, dtype: int64\n",
      "Max count of  Dry Cough Yes    4307\n",
      "Name: Dry Cough, dtype: int64\n",
      "Min count of  Dry Cough No    1127\n",
      "Name: Dry Cough, dtype: int64\n",
      "Max count of  Sore throat Yes    3953\n",
      "Name: Sore throat, dtype: int64\n",
      "Min count of  Sore throat No    1481\n",
      "Name: Sore throat, dtype: int64\n",
      "Max count of  Hyper Tension No    2771\n",
      "Name: Hyper Tension, dtype: int64\n",
      "Min count of  Hyper Tension Yes    2663\n",
      "Name: Hyper Tension, dtype: int64\n",
      "Max count of  Abroad travel No    2983\n",
      "Name: Abroad travel, dtype: int64\n",
      "Min count of  Abroad travel Yes    2451\n",
      "Name: Abroad travel, dtype: int64\n",
      "Max count of  Contact with COVID Patient Yes    2726\n",
      "Name: Contact with COVID Patient, dtype: int64\n",
      "Min count of  Contact with COVID Patient No    2708\n",
      "Name: Contact with COVID Patient, dtype: int64\n",
      "Max count of  Attended Large Gathering No    2924\n",
      "Name: Attended Large Gathering, dtype: int64\n",
      "Min count of  Attended Large Gathering Yes    2510\n",
      "Name: Attended Large Gathering, dtype: int64\n",
      "Max count of  Visited Public Exposed Places Yes    2820\n",
      "Name: Visited Public Exposed Places, dtype: int64\n",
      "Min count of  Visited Public Exposed Places No    2614\n",
      "Name: Visited Public Exposed Places, dtype: int64\n",
      "Max count of  Family working in Public Exposed Places No    3172\n",
      "Name: Family working in Public Exposed Places, dtype: int64\n",
      "Min count of  Family working in Public Exposed Places Yes    2262\n",
      "Name: Family working in Public Exposed Places, dtype: int64\n",
      "Max count of  COVID-19 Yes    4383\n",
      "Name: COVID-19, dtype: int64\n",
      "Min count of  COVID-19 No    1051\n",
      "Name: COVID-19, dtype: int64\n"
     ]
    }
   ],
   "source": [
    "for series in df:\n",
    "    max_count = df[series].value_counts().head(1)\n",
    "    min_count = df[series].value_counts().tail(1)\n",
    "    print(\"Max count of \", series, max_count)\n",
    "    print(\"Min count of \", series, min_count)"
   ]
  },
  {
   "attachments": {},
   "cell_type": "markdown",
   "metadata": {},
   "source": [
    "## Task Questions"
   ]
  },
  {
   "attachments": {},
   "cell_type": "markdown",
   "metadata": {},
   "source": [
    "### Most Dangerous for age group "
   ]
  },
  {
   "cell_type": "code",
   "execution_count": 11,
   "metadata": {},
   "outputs": [],
   "source": [
    "positive_df = df[df['COVID-19'] == 'Yes']"
   ]
  },
  {
   "cell_type": "code",
   "execution_count": 12,
   "metadata": {},
   "outputs": [
    {
     "data": {
      "text/plain": [
       "Text(0.5, 1.0, 'Age vs count for covid 19 - Top 5 Ages')"
      ]
     },
     "execution_count": 12,
     "metadata": {},
     "output_type": "execute_result"
    },
    {
     "data": {
      "image/png": "[encoded data removed]",
      "text/plain": [
       "<Figure size 640x480 with 1 Axes>"
      ]
     },
     "metadata": {},
     "output_type": "display_data"
    }
   ],
   "source": [
    "fig = positive_df[\"Age\"].value_counts().head().plot(kind='bar')\n",
    "fig.set_xlabel(\"Age\")\n",
    "fig.set_ylabel(\"Count\")\n",
    "fig.set_title(\"Age vs count for covid 19 - Top 5 Ages\")"
   ]
  },
  {
   "attachments": {},
   "cell_type": "markdown",
   "metadata": {},
   "source": [
    "We can say that age 102 is the most dangerous for Covid"
   ]
  },
  {
   "attachments": {},
   "cell_type": "markdown",
   "metadata": {},
   "source": [
    "### Male with fever positivity rate"
   ]
  },
  {
   "cell_type": "code",
   "execution_count": 13,
   "metadata": {},
   "outputs": [],
   "source": [
    "male_test = df[df[\"Gender\"]==\"Male\"]\n",
    "male_test2 = df[df[\"Fever\"] ==\"Yes\"]"
   ]
  },
  {
   "cell_type": "code",
   "execution_count": 14,
   "metadata": {},
   "outputs": [],
   "source": [
    "age_group = df[[\"Age\",\"COVID-19\"]]"
   ]
  },
  {
   "cell_type": "code",
   "execution_count": 15,
   "metadata": {},
   "outputs": [],
   "source": [
    "gender = df.groupby([\"Gender\",\"Fever\",\"COVID-19\"]).size()\n",
    "male= gender[\"Male\"]\n",
    "fevered_male= male[\"Yes\"]\n",
    "#percent = fevered_male[\"Yes\"]/(fevered_male[\"Yes\"]+fevered_male[\"No\"])\n",
    "#percent * 100"
   ]
  },
  {
   "cell_type": "code",
   "execution_count": 16,
   "metadata": {},
   "outputs": [
    {
     "data": {
      "text/plain": [
       "<matplotlib.legend.Legend at 0x7fa3be95c9d0>"
      ]
     },
     "execution_count": 16,
     "metadata": {},
     "output_type": "execute_result"
    },
    {
     "data": {
      "image/png": "[encoded data removed]",
      "text/plain": [
       "<Figure size 640x480 with 1 Axes>"
      ]
     },
     "metadata": {},
     "output_type": "display_data"
    }
   ],
   "source": [
    "fig = fevered_male.plot(kind=\"pie\",autopct='%1.1f%%')\n",
    "fig.set_title(\"Male with fever covid status\")\n",
    "fig.legend()"
   ]
  },
  {
   "attachments": {},
   "cell_type": "markdown",
   "metadata": {},
   "source": [
    "We can say that 88.3% of male with fever have covid"
   ]
  },
  {
   "cell_type": "code",
   "execution_count": 17,
   "metadata": {},
   "outputs": [
    {
     "data": {
      "text/plain": [
       "Fever  COVID-19\n",
       "No     No           268\n",
       "       Yes          306\n",
       "Yes    No           252\n",
       "       Yes         1911\n",
       "dtype: int64"
      ]
     },
     "execution_count": 17,
     "metadata": {},
     "output_type": "execute_result"
    }
   ],
   "source": [
    "male"
   ]
  },
  {
   "attachments": {},
   "cell_type": "markdown",
   "metadata": {},
   "source": [
    "### Region with most and least positive"
   ]
  },
  {
   "cell_type": "code",
   "execution_count": 18,
   "metadata": {},
   "outputs": [
    {
     "name": "stdout",
     "output_type": "stream",
     "text": [
      "most dense region  Dodoma    665\n",
      "Name: Region, dtype: int64\n",
      "least dense region Bukoba    610\n",
      "Name: Region, dtype: int64\n"
     ]
    }
   ],
   "source": [
    "region = positive_df[\"Region\"].value_counts()\n",
    "region_max = region.head(1)\n",
    "region_min = region.tail(1)\n",
    "\n",
    "print(\"most dense region \",region_max)\n",
    "print(\"least dense region\",region_min)"
   ]
  },
  {
   "attachments": {},
   "cell_type": "markdown",
   "metadata": {},
   "source": [
    "We can now say that: Most dense region is : Dodoma, and least dense region is: Bukoba"
   ]
  },
  {
   "attachments": {},
   "cell_type": "markdown",
   "metadata": {},
   "source": [
    "### Other miscellaneous"
   ]
  },
  {
   "attachments": {},
   "cell_type": "markdown",
   "metadata": {},
   "source": [
    "#### Infection rate after attending a large event\n",
    "This shows the percent of people who had attended a large event prior to testing positive"
   ]
  },
  {
   "cell_type": "code",
   "execution_count": 19,
   "metadata": {},
   "outputs": [
    {
     "data": {
      "text/plain": [
       "Text(0.5, 1.0, 'Infection after large gathering')"
      ]
     },
     "execution_count": 19,
     "metadata": {},
     "output_type": "execute_result"
    },
    {
     "data": {
      "image/png": "[encoded data removed]",
      "text/plain": [
       "<Figure size 640x480 with 1 Axes>"
      ]
     },
     "metadata": {},
     "output_type": "display_data"
    }
   ],
   "source": [
    "infection_after_gathering = positive_df[\"Attended Large Gathering\"].value_counts()\n",
    "fig = infection_after_gathering.plot(kind='pie',autopct='%1.1f%%')\n",
    "fig.set_title(\"Infection after large gathering\")"
   ]
  },
  {
   "attachments": {},
   "cell_type": "markdown",
   "metadata": {},
   "source": [
    "### Covid positivity distribution by telecom"
   ]
  },
  {
   "cell_type": "code",
   "execution_count": 20,
   "metadata": {},
   "outputs": [
    {
     "data": {
      "text/plain": [
       "Text(0, 0.5, 'Count')"
      ]
     },
     "execution_count": 20,
     "metadata": {},
     "output_type": "execute_result"
    },
    {
     "data": {
      "image/png": "[encoded data removed]",
      "text/plain": [
       "<Figure size 640x480 with 1 Axes>"
      ]
     },
     "metadata": {},
     "output_type": "display_data"
    }
   ],
   "source": [
    "telecom = df.groupby([\"Telcos\",\"COVID-19\"]).size()\n",
    "fig = telecom.plot(kind='bar')\n",
    "fig.set_title('Telecom and Covid Positivity ')\n",
    "fig.set_xlabel(\"Telecoms\")\n",
    "fig.set_ylabel(\"Count\")"
   ]
  },
  {
   "attachments": {},
   "cell_type": "markdown",
   "metadata": {},
   "source": [
    "## Standardization"
   ]
  },
  {
   "cell_type": "code",
   "execution_count": 21,
   "metadata": {},
   "outputs": [
    {
     "data": {
      "text/plain": [
       "id                                            int64\n",
       "Telcos                                     category\n",
       "Mobile                                     category\n",
       "Gender                                     category\n",
       "Age                                           int64\n",
       "Region                                     category\n",
       "District                                      int64\n",
       "Breathing Problem                          category\n",
       "Fever                                      category\n",
       "Dry Cough                                  category\n",
       "Sore throat                                category\n",
       "Hyper Tension                              category\n",
       "Abroad travel                              category\n",
       "Contact with COVID Patient                 category\n",
       "Attended Large Gathering                   category\n",
       "Visited Public Exposed Places              category\n",
       "Family working in Public Exposed Places    category\n",
       "COVID-19                                   category\n",
       "dtype: object"
      ]
     },
     "execution_count": 21,
     "metadata": {},
     "output_type": "execute_result"
    }
   ],
   "source": [
    "for column in df:\n",
    "    if(df[column].nunique() < 10):\n",
    "        df[column] = df[column].astype('category')\n",
    "df.dtypes"
   ]
  },
  {
   "cell_type": "code",
   "execution_count": 22,
   "metadata": {},
   "outputs": [
    {
     "data": {
      "text/plain": [
       "array([[<AxesSubplot: title={'center': 'id'}>,\n",
       "        <AxesSubplot: title={'center': 'Age'}>],\n",
       "       [<AxesSubplot: title={'center': 'District'}>, <AxesSubplot: >]],\n",
       "      dtype=object)"
      ]
     },
     "execution_count": 22,
     "metadata": {},
     "output_type": "execute_result"
    },
    {
     "data": {
      "image/png": "[encoded data removed]",
      "text/plain": [
       "<Figure size 640x480 with 4 Axes>"
      ]
     },
     "metadata": {},
     "output_type": "display_data"
    }
   ],
   "source": [
    "df.hist()"
   ]
  },
  {
   "cell_type": "code",
   "execution_count": 23,
   "metadata": {},
   "outputs": [],
   "source": [
    "fevered_female  = df[(df[\"Gender\"]==\"Female\") & (df[\"Fever\"]==\"Yes\")]"
   ]
  },
  {
   "cell_type": "code",
   "execution_count": 24,
   "metadata": {},
   "outputs": [
    {
     "name": "stdout",
     "output_type": "stream",
     "text": [
      "COVID-19\n",
      "No      264\n",
      "Yes    1846\n",
      "dtype: int64\n"
     ]
    }
   ],
   "source": [
    "print(fevered_female.groupby(\"COVID-19\").size())"
   ]
  },
  {
   "attachments": {},
   "cell_type": "markdown",
   "metadata": {},
   "source": [
    "### Male Female Distribution of data"
   ]
  },
  {
   "cell_type": "code",
   "execution_count": 25,
   "metadata": {},
   "outputs": [
    {
     "name": "stdout",
     "output_type": "stream",
     "text": [
      "Male      2737\n",
      "Female    2697\n",
      "Name: Gender, dtype: int64\n"
     ]
    },
    {
     "data": {
      "text/plain": [
       "<AxesSubplot: >"
      ]
     },
     "execution_count": 25,
     "metadata": {},
     "output_type": "execute_result"
    },
    {
     "data": {
      "image/png": "[encoded data removed]",
      "text/plain": [
       "<Figure size 640x480 with 1 Axes>"
      ]
     },
     "metadata": {},
     "output_type": "display_data"
    }
   ],
   "source": [
    "male_female = df[\"Gender\"].value_counts()\n",
    "print(male_female)\n",
    "male_female.plot(kind='bar')"
   ]
  },
  {
   "cell_type": "code",
   "execution_count": 26,
   "metadata": {},
   "outputs": [
    {
     "data": {
      "text/plain": [
       "<AxesSubplot: ylabel='Gender'>"
      ]
     },
     "execution_count": 26,
     "metadata": {},
     "output_type": "execute_result"
    },
    {
     "data": {
      "image/png": "[encoded data removed]",
      "text/plain": [
       "<Figure size 640x480 with 1 Axes>"
      ]
     },
     "metadata": {},
     "output_type": "display_data"
    }
   ],
   "source": [
    "male_female.plot(kind='pie',autopct = '%1.1f%%')"
   ]
  },
  {
   "attachments": {},
   "cell_type": "markdown",
   "metadata": {},
   "source": [
    "We can conclude there are more males in this dataset"
   ]
  },
  {
   "cell_type": "code",
   "execution_count": 27,
   "metadata": {},
   "outputs": [
    {
     "data": {
      "text/plain": [
       "id                                            int64\n",
       "Telcos                                     category\n",
       "Mobile                                     category\n",
       "Gender                                     category\n",
       "Age                                           int64\n",
       "Region                                     category\n",
       "District                                      int64\n",
       "Breathing Problem                          category\n",
       "Fever                                      category\n",
       "Dry Cough                                  category\n",
       "Sore throat                                category\n",
       "Hyper Tension                              category\n",
       "Abroad travel                              category\n",
       "Contact with COVID Patient                 category\n",
       "Attended Large Gathering                   category\n",
       "Visited Public Exposed Places              category\n",
       "Family working in Public Exposed Places    category\n",
       "COVID-19                                   category\n",
       "dtype: object"
      ]
     },
     "execution_count": 27,
     "metadata": {},
     "output_type": "execute_result"
    }
   ],
   "source": [
    "\n",
    "dataframe = df.copy()\n",
    "dataframe.dtypes"
   ]
  },
  {
   "attachments": {},
   "cell_type": "markdown",
   "metadata": {},
   "source": [
    "## One hot Encodings"
   ]
  },
  {
   "attachments": {},
   "cell_type": "markdown",
   "metadata": {},
   "source": [
    "### Generating encodings"
   ]
  },
  {
   "cell_type": "code",
   "execution_count": 29,
   "metadata": {},
   "outputs": [],
   "source": [
    "from category_encoders import OneHotEncoder"
   ]
  },
  {
   "cell_type": "code",
   "execution_count": 30,
   "metadata": {},
   "outputs": [
    {
     "data": {
      "text/html": [
       "<div>\n",
       "<style scoped>\n",
       "    .dataframe tbody tr th:only-of-type {\n",
       "        vertical-align: middle;\n",
       "    }\n",
       "\n",
       "    .dataframe tbody tr th {\n",
       "        vertical-align: top;\n",
       "    }\n",
       "\n",
       "    .dataframe thead th {\n",
       "        text-align: right;\n",
       "    }\n",
       "</style>\n",
       "<table border=\"1\" class=\"dataframe\">\n",
       "  <thead>\n",
       "    <tr style=\"text-align: right;\">\n",
       "      <th></th>\n",
       "      <th>id</th>\n",
       "      <th>Telcos</th>\n",
       "      <th>Gender</th>\n",
       "      <th>Age</th>\n",
       "      <th>Region</th>\n",
       "      <th>District</th>\n",
       "      <th>Breathing Problem</th>\n",
       "      <th>Fever</th>\n",
       "      <th>Dry Cough</th>\n",
       "      <th>Sore throat</th>\n",
       "      <th>Hyper Tension</th>\n",
       "      <th>Abroad travel</th>\n",
       "      <th>Contact with COVID Patient</th>\n",
       "      <th>Attended Large Gathering</th>\n",
       "      <th>Visited Public Exposed Places</th>\n",
       "      <th>Family working in Public Exposed Places</th>\n",
       "      <th>COVID-19</th>\n",
       "    </tr>\n",
       "  </thead>\n",
       "  <tbody>\n",
       "    <tr>\n",
       "      <th>0</th>\n",
       "      <td>2245</td>\n",
       "      <td>Smart</td>\n",
       "      <td>Male</td>\n",
       "      <td>50</td>\n",
       "      <td>Dar es Salaam</td>\n",
       "      <td>37</td>\n",
       "      <td>Yes</td>\n",
       "      <td>Yes</td>\n",
       "      <td>Yes</td>\n",
       "      <td>Yes</td>\n",
       "      <td>Yes</td>\n",
       "      <td>No</td>\n",
       "      <td>Yes</td>\n",
       "      <td>No</td>\n",
       "      <td>Yes</td>\n",
       "      <td>Yes</td>\n",
       "      <td>Yes</td>\n",
       "    </tr>\n",
       "    <tr>\n",
       "      <th>1</th>\n",
       "      <td>2246</td>\n",
       "      <td>Smart</td>\n",
       "      <td>Male</td>\n",
       "      <td>92</td>\n",
       "      <td>Geita</td>\n",
       "      <td>36</td>\n",
       "      <td>Yes</td>\n",
       "      <td>Yes</td>\n",
       "      <td>Yes</td>\n",
       "      <td>Yes</td>\n",
       "      <td>No</td>\n",
       "      <td>No</td>\n",
       "      <td>No</td>\n",
       "      <td>Yes</td>\n",
       "      <td>Yes</td>\n",
       "      <td>No</td>\n",
       "      <td>Yes</td>\n",
       "    </tr>\n",
       "    <tr>\n",
       "      <th>2</th>\n",
       "      <td>2247</td>\n",
       "      <td>Smart</td>\n",
       "      <td>Female</td>\n",
       "      <td>14</td>\n",
       "      <td>Arusha</td>\n",
       "      <td>63</td>\n",
       "      <td>Yes</td>\n",
       "      <td>Yes</td>\n",
       "      <td>Yes</td>\n",
       "      <td>Yes</td>\n",
       "      <td>No</td>\n",
       "      <td>Yes</td>\n",
       "      <td>No</td>\n",
       "      <td>No</td>\n",
       "      <td>No</td>\n",
       "      <td>No</td>\n",
       "      <td>Yes</td>\n",
       "    </tr>\n",
       "    <tr>\n",
       "      <th>3</th>\n",
       "      <td>2248</td>\n",
       "      <td>Zantel</td>\n",
       "      <td>Female</td>\n",
       "      <td>16</td>\n",
       "      <td>Dar es Salaam</td>\n",
       "      <td>6</td>\n",
       "      <td>Yes</td>\n",
       "      <td>Yes</td>\n",
       "      <td>Yes</td>\n",
       "      <td>No</td>\n",
       "      <td>No</td>\n",
       "      <td>Yes</td>\n",
       "      <td>No</td>\n",
       "      <td>Yes</td>\n",
       "      <td>Yes</td>\n",
       "      <td>No</td>\n",
       "      <td>Yes</td>\n",
       "    </tr>\n",
       "    <tr>\n",
       "      <th>4</th>\n",
       "      <td>2249</td>\n",
       "      <td>Smart</td>\n",
       "      <td>Female</td>\n",
       "      <td>59</td>\n",
       "      <td>Iringa</td>\n",
       "      <td>27</td>\n",
       "      <td>Yes</td>\n",
       "      <td>Yes</td>\n",
       "      <td>Yes</td>\n",
       "      <td>Yes</td>\n",
       "      <td>Yes</td>\n",
       "      <td>No</td>\n",
       "      <td>Yes</td>\n",
       "      <td>No</td>\n",
       "      <td>Yes</td>\n",
       "      <td>No</td>\n",
       "      <td>Yes</td>\n",
       "    </tr>\n",
       "    <tr>\n",
       "      <th>...</th>\n",
       "      <td>...</td>\n",
       "      <td>...</td>\n",
       "      <td>...</td>\n",
       "      <td>...</td>\n",
       "      <td>...</td>\n",
       "      <td>...</td>\n",
       "      <td>...</td>\n",
       "      <td>...</td>\n",
       "      <td>...</td>\n",
       "      <td>...</td>\n",
       "      <td>...</td>\n",
       "      <td>...</td>\n",
       "      <td>...</td>\n",
       "      <td>...</td>\n",
       "      <td>...</td>\n",
       "      <td>...</td>\n",
       "      <td>...</td>\n",
       "    </tr>\n",
       "    <tr>\n",
       "      <th>5429</th>\n",
       "      <td>7674</td>\n",
       "      <td>tiGo</td>\n",
       "      <td>Female</td>\n",
       "      <td>49</td>\n",
       "      <td>Katavi</td>\n",
       "      <td>65</td>\n",
       "      <td>Yes</td>\n",
       "      <td>Yes</td>\n",
       "      <td>No</td>\n",
       "      <td>Yes</td>\n",
       "      <td>No</td>\n",
       "      <td>No</td>\n",
       "      <td>No</td>\n",
       "      <td>No</td>\n",
       "      <td>No</td>\n",
       "      <td>No</td>\n",
       "      <td>Yes</td>\n",
       "    </tr>\n",
       "    <tr>\n",
       "      <th>5430</th>\n",
       "      <td>7675</td>\n",
       "      <td>Smart</td>\n",
       "      <td>Male</td>\n",
       "      <td>73</td>\n",
       "      <td>Arusha</td>\n",
       "      <td>76</td>\n",
       "      <td>Yes</td>\n",
       "      <td>Yes</td>\n",
       "      <td>Yes</td>\n",
       "      <td>No</td>\n",
       "      <td>Yes</td>\n",
       "      <td>No</td>\n",
       "      <td>No</td>\n",
       "      <td>No</td>\n",
       "      <td>No</td>\n",
       "      <td>No</td>\n",
       "      <td>Yes</td>\n",
       "    </tr>\n",
       "    <tr>\n",
       "      <th>5431</th>\n",
       "      <td>7676</td>\n",
       "      <td>Vodacom</td>\n",
       "      <td>Female</td>\n",
       "      <td>102</td>\n",
       "      <td>Katavi</td>\n",
       "      <td>55</td>\n",
       "      <td>Yes</td>\n",
       "      <td>Yes</td>\n",
       "      <td>Yes</td>\n",
       "      <td>No</td>\n",
       "      <td>Yes</td>\n",
       "      <td>No</td>\n",
       "      <td>No</td>\n",
       "      <td>No</td>\n",
       "      <td>No</td>\n",
       "      <td>No</td>\n",
       "      <td>No</td>\n",
       "    </tr>\n",
       "    <tr>\n",
       "      <th>5432</th>\n",
       "      <td>7677</td>\n",
       "      <td>Vodacom</td>\n",
       "      <td>Male</td>\n",
       "      <td>109</td>\n",
       "      <td>Bukoba</td>\n",
       "      <td>10</td>\n",
       "      <td>Yes</td>\n",
       "      <td>Yes</td>\n",
       "      <td>Yes</td>\n",
       "      <td>No</td>\n",
       "      <td>No</td>\n",
       "      <td>No</td>\n",
       "      <td>No</td>\n",
       "      <td>No</td>\n",
       "      <td>No</td>\n",
       "      <td>No</td>\n",
       "      <td>No</td>\n",
       "    </tr>\n",
       "    <tr>\n",
       "      <th>5433</th>\n",
       "      <td>7678</td>\n",
       "      <td>Halotel</td>\n",
       "      <td>Male</td>\n",
       "      <td>101</td>\n",
       "      <td>Iringa</td>\n",
       "      <td>60</td>\n",
       "      <td>Yes</td>\n",
       "      <td>Yes</td>\n",
       "      <td>Yes</td>\n",
       "      <td>No</td>\n",
       "      <td>Yes</td>\n",
       "      <td>No</td>\n",
       "      <td>No</td>\n",
       "      <td>No</td>\n",
       "      <td>No</td>\n",
       "      <td>No</td>\n",
       "      <td>No</td>\n",
       "    </tr>\n",
       "  </tbody>\n",
       "</table>\n",
       "<p>5434 rows × 17 columns</p>\n",
       "</div>"
      ],
      "text/plain": [
       "        id   Telcos  Gender  Age         Region  District Breathing Problem  \\\n",
       "0     2245    Smart    Male   50  Dar es Salaam        37               Yes   \n",
       "1     2246    Smart    Male   92          Geita        36               Yes   \n",
       "2     2247    Smart  Female   14         Arusha        63               Yes   \n",
       "3     2248   Zantel  Female   16  Dar es Salaam         6               Yes   \n",
       "4     2249    Smart  Female   59         Iringa        27               Yes   \n",
       "...    ...      ...     ...  ...            ...       ...               ...   \n",
       "5429  7674     tiGo  Female   49         Katavi        65               Yes   \n",
       "5430  7675    Smart    Male   73         Arusha        76               Yes   \n",
       "5431  7676  Vodacom  Female  102         Katavi        55               Yes   \n",
       "5432  7677  Vodacom    Male  109         Bukoba        10               Yes   \n",
       "5433  7678  Halotel    Male  101         Iringa        60               Yes   \n",
       "\n",
       "     Fever Dry Cough Sore throat Hyper Tension Abroad travel  \\\n",
       "0      Yes       Yes         Yes           Yes            No   \n",
       "1      Yes       Yes         Yes            No            No   \n",
       "2      Yes       Yes         Yes            No           Yes   \n",
       "3      Yes       Yes          No            No           Yes   \n",
       "4      Yes       Yes         Yes           Yes            No   \n",
       "...    ...       ...         ...           ...           ...   \n",
       "5429   Yes        No         Yes            No            No   \n",
       "5430   Yes       Yes          No           Yes            No   \n",
       "5431   Yes       Yes          No           Yes            No   \n",
       "5432   Yes       Yes          No            No            No   \n",
       "5433   Yes       Yes          No           Yes            No   \n",
       "\n",
       "     Contact with COVID Patient Attended Large Gathering  \\\n",
       "0                           Yes                       No   \n",
       "1                            No                      Yes   \n",
       "2                            No                       No   \n",
       "3                            No                      Yes   \n",
       "4                           Yes                       No   \n",
       "...                         ...                      ...   \n",
       "5429                         No                       No   \n",
       "5430                         No                       No   \n",
       "5431                         No                       No   \n",
       "5432                         No                       No   \n",
       "5433                         No                       No   \n",
       "\n",
       "     Visited Public Exposed Places Family working in Public Exposed Places  \\\n",
       "0                              Yes                                     Yes   \n",
       "1                              Yes                                      No   \n",
       "2                               No                                      No   \n",
       "3                              Yes                                      No   \n",
       "4                              Yes                                      No   \n",
       "...                            ...                                     ...   \n",
       "5429                            No                                      No   \n",
       "5430                            No                                      No   \n",
       "5431                            No                                      No   \n",
       "5432                            No                                      No   \n",
       "5433                            No                                      No   \n",
       "\n",
       "     COVID-19  \n",
       "0         Yes  \n",
       "1         Yes  \n",
       "2         Yes  \n",
       "3         Yes  \n",
       "4         Yes  \n",
       "...       ...  \n",
       "5429      Yes  \n",
       "5430      Yes  \n",
       "5431       No  \n",
       "5432       No  \n",
       "5433       No  \n",
       "\n",
       "[5434 rows x 17 columns]"
      ]
     },
     "execution_count": 30,
     "metadata": {},
     "output_type": "execute_result"
    }
   ],
   "source": [
    "dataframe.drop([\"Mobile\"],axis=1)"
   ]
  },
  {
   "cell_type": "code",
   "execution_count": 31,
   "metadata": {},
   "outputs": [
    {
     "name": "stderr",
     "output_type": "stream",
     "text": [
      "/home/pratik/Documents/InternshipStuffs/Week 2/Excercise 1/ai-ml-interns/myvenv/lib/python3.8/site-packages/category_encoders/one_hot.py:145: FutureWarning: iteritems is deprecated and will be removed in a future version. Use .items instead.\n",
      "  for cat_name, class_ in values.iteritems():\n",
      "/home/pratik/Documents/InternshipStuffs/Week 2/Excercise 1/ai-ml-interns/myvenv/lib/python3.8/site-packages/category_encoders/one_hot.py:145: FutureWarning: iteritems is deprecated and will be removed in a future version. Use .items instead.\n",
      "  for cat_name, class_ in values.iteritems():\n",
      "/home/pratik/Documents/InternshipStuffs/Week 2/Excercise 1/ai-ml-interns/myvenv/lib/python3.8/site-packages/category_encoders/one_hot.py:145: FutureWarning: iteritems is deprecated and will be removed in a future version. Use .items instead.\n",
      "  for cat_name, class_ in values.iteritems():\n",
      "/home/pratik/Documents/InternshipStuffs/Week 2/Excercise 1/ai-ml-interns/myvenv/lib/python3.8/site-packages/category_encoders/one_hot.py:145: FutureWarning: iteritems is deprecated and will be removed in a future version. Use .items instead.\n",
      "  for cat_name, class_ in values.iteritems():\n",
      "/home/pratik/Documents/InternshipStuffs/Week 2/Excercise 1/ai-ml-interns/myvenv/lib/python3.8/site-packages/category_encoders/one_hot.py:145: FutureWarning: iteritems is deprecated and will be removed in a future version. Use .items instead.\n",
      "  for cat_name, class_ in values.iteritems():\n",
      "/home/pratik/Documents/InternshipStuffs/Week 2/Excercise 1/ai-ml-interns/myvenv/lib/python3.8/site-packages/category_encoders/one_hot.py:145: FutureWarning: iteritems is deprecated and will be removed in a future version. Use .items instead.\n",
      "  for cat_name, class_ in values.iteritems():\n",
      "/home/pratik/Documents/InternshipStuffs/Week 2/Excercise 1/ai-ml-interns/myvenv/lib/python3.8/site-packages/category_encoders/one_hot.py:145: FutureWarning: iteritems is deprecated and will be removed in a future version. Use .items instead.\n",
      "  for cat_name, class_ in values.iteritems():\n",
      "/home/pratik/Documents/InternshipStuffs/Week 2/Excercise 1/ai-ml-interns/myvenv/lib/python3.8/site-packages/category_encoders/one_hot.py:145: FutureWarning: iteritems is deprecated and will be removed in a future version. Use .items instead.\n",
      "  for cat_name, class_ in values.iteritems():\n",
      "/home/pratik/Documents/InternshipStuffs/Week 2/Excercise 1/ai-ml-interns/myvenv/lib/python3.8/site-packages/category_encoders/one_hot.py:145: FutureWarning: iteritems is deprecated and will be removed in a future version. Use .items instead.\n",
      "  for cat_name, class_ in values.iteritems():\n",
      "/home/pratik/Documents/InternshipStuffs/Week 2/Excercise 1/ai-ml-interns/myvenv/lib/python3.8/site-packages/category_encoders/one_hot.py:145: FutureWarning: iteritems is deprecated and will be removed in a future version. Use .items instead.\n",
      "  for cat_name, class_ in values.iteritems():\n",
      "/home/pratik/Documents/InternshipStuffs/Week 2/Excercise 1/ai-ml-interns/myvenv/lib/python3.8/site-packages/category_encoders/one_hot.py:145: FutureWarning: iteritems is deprecated and will be removed in a future version. Use .items instead.\n",
      "  for cat_name, class_ in values.iteritems():\n",
      "/home/pratik/Documents/InternshipStuffs/Week 2/Excercise 1/ai-ml-interns/myvenv/lib/python3.8/site-packages/category_encoders/one_hot.py:145: FutureWarning: iteritems is deprecated and will be removed in a future version. Use .items instead.\n",
      "  for cat_name, class_ in values.iteritems():\n",
      "/home/pratik/Documents/InternshipStuffs/Week 2/Excercise 1/ai-ml-interns/myvenv/lib/python3.8/site-packages/category_encoders/one_hot.py:145: FutureWarning: iteritems is deprecated and will be removed in a future version. Use .items instead.\n",
      "  for cat_name, class_ in values.iteritems():\n",
      "/home/pratik/Documents/InternshipStuffs/Week 2/Excercise 1/ai-ml-interns/myvenv/lib/python3.8/site-packages/category_encoders/one_hot.py:145: FutureWarning: iteritems is deprecated and will be removed in a future version. Use .items instead.\n",
      "  for cat_name, class_ in values.iteritems():\n",
      "/home/pratik/Documents/InternshipStuffs/Week 2/Excercise 1/ai-ml-interns/myvenv/lib/python3.8/site-packages/category_encoders/one_hot.py:145: FutureWarning: iteritems is deprecated and will be removed in a future version. Use .items instead.\n",
      "  for cat_name, class_ in values.iteritems():\n"
     ]
    },
    {
     "data": {
      "text/html": [
       "<div>\n",
       "<style scoped>\n",
       "    .dataframe tbody tr th:only-of-type {\n",
       "        vertical-align: middle;\n",
       "    }\n",
       "\n",
       "    .dataframe tbody tr th {\n",
       "        vertical-align: top;\n",
       "    }\n",
       "\n",
       "    .dataframe thead th {\n",
       "        text-align: right;\n",
       "    }\n",
       "</style>\n",
       "<table border=\"1\" class=\"dataframe\">\n",
       "  <thead>\n",
       "    <tr style=\"text-align: right;\">\n",
       "      <th></th>\n",
       "      <th>id</th>\n",
       "      <th>Telcos_Smart</th>\n",
       "      <th>Telcos_Zantel</th>\n",
       "      <th>Telcos_tiGo</th>\n",
       "      <th>Telcos_Halotel</th>\n",
       "      <th>Telcos_TTCL</th>\n",
       "      <th>Telcos_Airtel</th>\n",
       "      <th>Telcos_Vodacom</th>\n",
       "      <th>Mobile_xxxxxxxxxx</th>\n",
       "      <th>Gender_Male</th>\n",
       "      <th>...</th>\n",
       "      <th>Contact with COVID Patient_Yes</th>\n",
       "      <th>Contact with COVID Patient_No</th>\n",
       "      <th>Attended Large Gathering_No</th>\n",
       "      <th>Attended Large Gathering_Yes</th>\n",
       "      <th>Visited Public Exposed Places_Yes</th>\n",
       "      <th>Visited Public Exposed Places_No</th>\n",
       "      <th>Family working in Public Exposed Places_Yes</th>\n",
       "      <th>Family working in Public Exposed Places_No</th>\n",
       "      <th>COVID-19_Yes</th>\n",
       "      <th>COVID-19_No</th>\n",
       "    </tr>\n",
       "  </thead>\n",
       "  <tbody>\n",
       "    <tr>\n",
       "      <th>0</th>\n",
       "      <td>2245</td>\n",
       "      <td>1</td>\n",
       "      <td>0</td>\n",
       "      <td>0</td>\n",
       "      <td>0</td>\n",
       "      <td>0</td>\n",
       "      <td>0</td>\n",
       "      <td>0</td>\n",
       "      <td>1</td>\n",
       "      <td>1</td>\n",
       "      <td>...</td>\n",
       "      <td>1</td>\n",
       "      <td>0</td>\n",
       "      <td>1</td>\n",
       "      <td>0</td>\n",
       "      <td>1</td>\n",
       "      <td>0</td>\n",
       "      <td>1</td>\n",
       "      <td>0</td>\n",
       "      <td>1</td>\n",
       "      <td>0</td>\n",
       "    </tr>\n",
       "    <tr>\n",
       "      <th>1</th>\n",
       "      <td>2246</td>\n",
       "      <td>1</td>\n",
       "      <td>0</td>\n",
       "      <td>0</td>\n",
       "      <td>0</td>\n",
       "      <td>0</td>\n",
       "      <td>0</td>\n",
       "      <td>0</td>\n",
       "      <td>1</td>\n",
       "      <td>1</td>\n",
       "      <td>...</td>\n",
       "      <td>0</td>\n",
       "      <td>1</td>\n",
       "      <td>0</td>\n",
       "      <td>1</td>\n",
       "      <td>1</td>\n",
       "      <td>0</td>\n",
       "      <td>0</td>\n",
       "      <td>1</td>\n",
       "      <td>1</td>\n",
       "      <td>0</td>\n",
       "    </tr>\n",
       "    <tr>\n",
       "      <th>2</th>\n",
       "      <td>2247</td>\n",
       "      <td>1</td>\n",
       "      <td>0</td>\n",
       "      <td>0</td>\n",
       "      <td>0</td>\n",
       "      <td>0</td>\n",
       "      <td>0</td>\n",
       "      <td>0</td>\n",
       "      <td>1</td>\n",
       "      <td>0</td>\n",
       "      <td>...</td>\n",
       "      <td>0</td>\n",
       "      <td>1</td>\n",
       "      <td>1</td>\n",
       "      <td>0</td>\n",
       "      <td>0</td>\n",
       "      <td>1</td>\n",
       "      <td>0</td>\n",
       "      <td>1</td>\n",
       "      <td>1</td>\n",
       "      <td>0</td>\n",
       "    </tr>\n",
       "    <tr>\n",
       "      <th>3</th>\n",
       "      <td>2248</td>\n",
       "      <td>0</td>\n",
       "      <td>1</td>\n",
       "      <td>0</td>\n",
       "      <td>0</td>\n",
       "      <td>0</td>\n",
       "      <td>0</td>\n",
       "      <td>0</td>\n",
       "      <td>1</td>\n",
       "      <td>0</td>\n",
       "      <td>...</td>\n",
       "      <td>0</td>\n",
       "      <td>1</td>\n",
       "      <td>0</td>\n",
       "      <td>1</td>\n",
       "      <td>1</td>\n",
       "      <td>0</td>\n",
       "      <td>0</td>\n",
       "      <td>1</td>\n",
       "      <td>1</td>\n",
       "      <td>0</td>\n",
       "    </tr>\n",
       "    <tr>\n",
       "      <th>4</th>\n",
       "      <td>2249</td>\n",
       "      <td>1</td>\n",
       "      <td>0</td>\n",
       "      <td>0</td>\n",
       "      <td>0</td>\n",
       "      <td>0</td>\n",
       "      <td>0</td>\n",
       "      <td>0</td>\n",
       "      <td>1</td>\n",
       "      <td>0</td>\n",
       "      <td>...</td>\n",
       "      <td>1</td>\n",
       "      <td>0</td>\n",
       "      <td>1</td>\n",
       "      <td>0</td>\n",
       "      <td>1</td>\n",
       "      <td>0</td>\n",
       "      <td>0</td>\n",
       "      <td>1</td>\n",
       "      <td>1</td>\n",
       "      <td>0</td>\n",
       "    </tr>\n",
       "    <tr>\n",
       "      <th>...</th>\n",
       "      <td>...</td>\n",
       "      <td>...</td>\n",
       "      <td>...</td>\n",
       "      <td>...</td>\n",
       "      <td>...</td>\n",
       "      <td>...</td>\n",
       "      <td>...</td>\n",
       "      <td>...</td>\n",
       "      <td>...</td>\n",
       "      <td>...</td>\n",
       "      <td>...</td>\n",
       "      <td>...</td>\n",
       "      <td>...</td>\n",
       "      <td>...</td>\n",
       "      <td>...</td>\n",
       "      <td>...</td>\n",
       "      <td>...</td>\n",
       "      <td>...</td>\n",
       "      <td>...</td>\n",
       "      <td>...</td>\n",
       "      <td>...</td>\n",
       "    </tr>\n",
       "    <tr>\n",
       "      <th>5429</th>\n",
       "      <td>7674</td>\n",
       "      <td>0</td>\n",
       "      <td>0</td>\n",
       "      <td>1</td>\n",
       "      <td>0</td>\n",
       "      <td>0</td>\n",
       "      <td>0</td>\n",
       "      <td>0</td>\n",
       "      <td>1</td>\n",
       "      <td>0</td>\n",
       "      <td>...</td>\n",
       "      <td>0</td>\n",
       "      <td>1</td>\n",
       "      <td>1</td>\n",
       "      <td>0</td>\n",
       "      <td>0</td>\n",
       "      <td>1</td>\n",
       "      <td>0</td>\n",
       "      <td>1</td>\n",
       "      <td>1</td>\n",
       "      <td>0</td>\n",
       "    </tr>\n",
       "    <tr>\n",
       "      <th>5430</th>\n",
       "      <td>7675</td>\n",
       "      <td>1</td>\n",
       "      <td>0</td>\n",
       "      <td>0</td>\n",
       "      <td>0</td>\n",
       "      <td>0</td>\n",
       "      <td>0</td>\n",
       "      <td>0</td>\n",
       "      <td>1</td>\n",
       "      <td>1</td>\n",
       "      <td>...</td>\n",
       "      <td>0</td>\n",
       "      <td>1</td>\n",
       "      <td>1</td>\n",
       "      <td>0</td>\n",
       "      <td>0</td>\n",
       "      <td>1</td>\n",
       "      <td>0</td>\n",
       "      <td>1</td>\n",
       "      <td>1</td>\n",
       "      <td>0</td>\n",
       "    </tr>\n",
       "    <tr>\n",
       "      <th>5431</th>\n",
       "      <td>7676</td>\n",
       "      <td>0</td>\n",
       "      <td>0</td>\n",
       "      <td>0</td>\n",
       "      <td>0</td>\n",
       "      <td>0</td>\n",
       "      <td>0</td>\n",
       "      <td>1</td>\n",
       "      <td>1</td>\n",
       "      <td>0</td>\n",
       "      <td>...</td>\n",
       "      <td>0</td>\n",
       "      <td>1</td>\n",
       "      <td>1</td>\n",
       "      <td>0</td>\n",
       "      <td>0</td>\n",
       "      <td>1</td>\n",
       "      <td>0</td>\n",
       "      <td>1</td>\n",
       "      <td>0</td>\n",
       "      <td>1</td>\n",
       "    </tr>\n",
       "    <tr>\n",
       "      <th>5432</th>\n",
       "      <td>7677</td>\n",
       "      <td>0</td>\n",
       "      <td>0</td>\n",
       "      <td>0</td>\n",
       "      <td>0</td>\n",
       "      <td>0</td>\n",
       "      <td>0</td>\n",
       "      <td>1</td>\n",
       "      <td>1</td>\n",
       "      <td>1</td>\n",
       "      <td>...</td>\n",
       "      <td>0</td>\n",
       "      <td>1</td>\n",
       "      <td>1</td>\n",
       "      <td>0</td>\n",
       "      <td>0</td>\n",
       "      <td>1</td>\n",
       "      <td>0</td>\n",
       "      <td>1</td>\n",
       "      <td>0</td>\n",
       "      <td>1</td>\n",
       "    </tr>\n",
       "    <tr>\n",
       "      <th>5433</th>\n",
       "      <td>7678</td>\n",
       "      <td>0</td>\n",
       "      <td>0</td>\n",
       "      <td>0</td>\n",
       "      <td>1</td>\n",
       "      <td>0</td>\n",
       "      <td>0</td>\n",
       "      <td>0</td>\n",
       "      <td>1</td>\n",
       "      <td>1</td>\n",
       "      <td>...</td>\n",
       "      <td>0</td>\n",
       "      <td>1</td>\n",
       "      <td>1</td>\n",
       "      <td>0</td>\n",
       "      <td>0</td>\n",
       "      <td>1</td>\n",
       "      <td>0</td>\n",
       "      <td>1</td>\n",
       "      <td>0</td>\n",
       "      <td>1</td>\n",
       "    </tr>\n",
       "  </tbody>\n",
       "</table>\n",
       "<p>5434 rows × 42 columns</p>\n",
       "</div>"
      ],
      "text/plain": [
       "        id  Telcos_Smart  Telcos_Zantel  Telcos_tiGo  Telcos_Halotel  \\\n",
       "0     2245             1              0            0               0   \n",
       "1     2246             1              0            0               0   \n",
       "2     2247             1              0            0               0   \n",
       "3     2248             0              1            0               0   \n",
       "4     2249             1              0            0               0   \n",
       "...    ...           ...            ...          ...             ...   \n",
       "5429  7674             0              0            1               0   \n",
       "5430  7675             1              0            0               0   \n",
       "5431  7676             0              0            0               0   \n",
       "5432  7677             0              0            0               0   \n",
       "5433  7678             0              0            0               1   \n",
       "\n",
       "      Telcos_TTCL  Telcos_Airtel  Telcos_Vodacom  Mobile_xxxxxxxxxx  \\\n",
       "0               0              0               0                  1   \n",
       "1               0              0               0                  1   \n",
       "2               0              0               0                  1   \n",
       "3               0              0               0                  1   \n",
       "4               0              0               0                  1   \n",
       "...           ...            ...             ...                ...   \n",
       "5429            0              0               0                  1   \n",
       "5430            0              0               0                  1   \n",
       "5431            0              0               1                  1   \n",
       "5432            0              0               1                  1   \n",
       "5433            0              0               0                  1   \n",
       "\n",
       "      Gender_Male  ...  Contact with COVID Patient_Yes  \\\n",
       "0               1  ...                               1   \n",
       "1               1  ...                               0   \n",
       "2               0  ...                               0   \n",
       "3               0  ...                               0   \n",
       "4               0  ...                               1   \n",
       "...           ...  ...                             ...   \n",
       "5429            0  ...                               0   \n",
       "5430            1  ...                               0   \n",
       "5431            0  ...                               0   \n",
       "5432            1  ...                               0   \n",
       "5433            1  ...                               0   \n",
       "\n",
       "      Contact with COVID Patient_No  Attended Large Gathering_No  \\\n",
       "0                                 0                            1   \n",
       "1                                 1                            0   \n",
       "2                                 1                            1   \n",
       "3                                 1                            0   \n",
       "4                                 0                            1   \n",
       "...                             ...                          ...   \n",
       "5429                              1                            1   \n",
       "5430                              1                            1   \n",
       "5431                              1                            1   \n",
       "5432                              1                            1   \n",
       "5433                              1                            1   \n",
       "\n",
       "      Attended Large Gathering_Yes  Visited Public Exposed Places_Yes  \\\n",
       "0                                0                                  1   \n",
       "1                                1                                  1   \n",
       "2                                0                                  0   \n",
       "3                                1                                  1   \n",
       "4                                0                                  1   \n",
       "...                            ...                                ...   \n",
       "5429                             0                                  0   \n",
       "5430                             0                                  0   \n",
       "5431                             0                                  0   \n",
       "5432                             0                                  0   \n",
       "5433                             0                                  0   \n",
       "\n",
       "      Visited Public Exposed Places_No  \\\n",
       "0                                    0   \n",
       "1                                    0   \n",
       "2                                    1   \n",
       "3                                    0   \n",
       "4                                    0   \n",
       "...                                ...   \n",
       "5429                                 1   \n",
       "5430                                 1   \n",
       "5431                                 1   \n",
       "5432                                 1   \n",
       "5433                                 1   \n",
       "\n",
       "      Family working in Public Exposed Places_Yes  \\\n",
       "0                                               1   \n",
       "1                                               0   \n",
       "2                                               0   \n",
       "3                                               0   \n",
       "4                                               0   \n",
       "...                                           ...   \n",
       "5429                                            0   \n",
       "5430                                            0   \n",
       "5431                                            0   \n",
       "5432                                            0   \n",
       "5433                                            0   \n",
       "\n",
       "      Family working in Public Exposed Places_No  COVID-19_Yes  COVID-19_No  \n",
       "0                                              0             1            0  \n",
       "1                                              1             1            0  \n",
       "2                                              1             1            0  \n",
       "3                                              1             1            0  \n",
       "4                                              1             1            0  \n",
       "...                                          ...           ...          ...  \n",
       "5429                                           1             1            0  \n",
       "5430                                           1             1            0  \n",
       "5431                                           1             0            1  \n",
       "5432                                           1             0            1  \n",
       "5433                                           1             0            1  \n",
       "\n",
       "[5434 rows x 42 columns]"
      ]
     },
     "execution_count": 31,
     "metadata": {},
     "output_type": "execute_result"
    }
   ],
   "source": [
    "encoder = OneHotEncoder(use_cat_names=True)\n",
    "encoder.fit_transform(dataframe)"
   ]
  }
 ],
 "metadata": {
  "kernelspec": {
   "display_name": "myvenv",
   "language": "python",
   "name": "python3"
  },
  "language_info": {
   "codemirror_mode": {
    "name": "ipython",
    "version": 3
   },
   "file_extension": ".py",
   "mimetype": "text/x-python",
   "name": "python",
   "nbconvert_exporter": "python",
   "pygments_lexer": "ipython3",
   "version": "3.8.10 (default, Nov 14 2022, 12:59:47) \n[GCC 9.4.0]"
  },
  "orig_nbformat": 4,
  "vscode": {
   "interpreter": {
    "hash": "58166a1e17a3db2086f26aafef42e80935cf6420307223328143a560c6b4a197"
   }
  }
 },
 "nbformat": 4,
 "nbformat_minor": 2
}
